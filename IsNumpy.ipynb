{
  "cells": [
    {
      "cell_type": "markdown",
      "metadata": {
        "id": "vC84e9kzyxPy"
      },
      "source": [
        "<h1>Импорт библиотек"
      ]
    },
    {
      "cell_type": "code",
      "execution_count": 2,
      "metadata": {
        "id": "cgKeNegmQG5S"
      },
      "outputs": [],
      "source": [
        "import numpy as np\n",
        "import matplotlib.pyplot as plt"
      ]
    },
    {
      "cell_type": "markdown",
      "metadata": {
        "id": "qFM9uVU2x4Ls"
      },
      "source": [
        "<h1>Задача 1. Дан набор из $p$ матриц размерностью $(n, n)$ и $p$ векторов размерностью $(n, 1)$, найти сумму произведений матриц на векторы. Написать тесты для кода\n"
      ]
    },
    {
      "cell_type": "code",
      "execution_count": 23,
      "metadata": {
        "id": "IAbUvEiYyWFF"
      },
      "outputs": [
        {
          "name": "stdout",
          "output_type": "stream",
          "text": [
            "[array([[1]])]\n",
            "[array([1])]\n",
            "[50 60 70 80]\n",
            "[14 34 53 72]\n"
          ]
        }
      ],
      "source": [
        "def sum_prod(matrix, vector):\n",
        "    '''\n",
        "    X - матрицы (n, n)\n",
        "    V - векторы (n, 1)\n",
        "    Гарантируется, что len(X) == len(V)\n",
        "    '''\n",
        "    return sum([np.dot(matrix[i],vector[i]) for i in range(len(matrix))])\n",
        "try: \n",
        "    #Колличество матриц и векторов.\n",
        "    numberElements = int(input(\"Введите количество матриц и векторов\"))\n",
        "    #Размерность матриц и векторов.\n",
        "    dimension = int(input(\"Введите размерности массивов и векторов\"))\n",
        "\n",
        "\n",
        "    # Массив с матрицами.\n",
        "    matrix =[np.array([int(input(\"Вводите элементы матрицы.\")) for element in range (dimension ** 2) ]).reshape(dimension, dimension) for i in range (numberElements)]\n",
        "\n",
        "    # Массив с векторами.\n",
        "    vector = [np.array([int(input(\"Вводите координаты вектора.\")) for coordinate in range(dimension)]) for i in range (numberElements)]\n",
        "except ValueError:\n",
        "    print(\"Вводите только целочисленные значения!\")\n",
        "\n",
        "print(matrix)    \n",
        "print(vector)\n",
        "\n",
        "# Test\n",
        "\n",
        "# Пользовательский ввод.\n",
        "print(sum_prod(matrix, vector))\n",
        "\n",
        "# Не пользовательский ввод.\n",
        "print(sum_prod([[1, 2, 3, 4], [3, 4, 5, 6], [5, 6, 7, 8], [7, 8, 9, 10]],[1, 2, 3, 4]))\n",
        "print(sum_prod([[[1, 2], [3, 4], [5, 6], [7, 8]],[[1- 1, 2 + 1], [3 - 1, 4 + 1], [5 - 2, 6 + 2], [7 - 3, 8 + 3]]],[[1, 2],[4, 3]]))\n",
        "\n"
      ]
    },
    {
      "cell_type": "markdown",
      "metadata": {
        "id": "TKwPG4fIy2w4"
      },
      "source": [
        "<h1>Задача 2. Дана матрица M, напишите функцию, которая бинаризует матрицу по некоторому threshold (то есть, все значения большие threshold становятся равными 1, иначе 0). Напишите тесты для кода"
      ]
    },
    {
      "cell_type": "code",
      "execution_count": 32,
      "metadata": {
        "id": "KQDNMgsjRNH7"
      },
      "outputs": [
        {
          "name": "stdout",
          "output_type": "stream",
          "text": [
            "[[0 1]\n",
            " [0 1]]\n",
            "[[1 0]\n",
            " [0 0]]\n",
            "Матрица должна иметь приемлимый выид и содержать только числа!\n",
            "[[0]\n",
            " [0]]\n",
            "Матрица должна иметь приемлимый выид и содержать только числа!\n"
          ]
        }
      ],
      "source": [
        "def binarize(M, threshold=0.5):\n",
        "    try:\n",
        "        return np.where(np.array(M) > threshold, 1, 0)\n",
        "    except (ValueError, TypeError):\n",
        "        return (\"Матрица должна иметь приемлимый выид и содержать только числа!\")\n",
        "        \n",
        "# Test\n",
        "\n",
        "print(binarize([[0, 1],[0.3, 0.7]]))\n",
        "\n",
        "print(binarize([[1, 0],[0.500, 0.1]]))\n",
        "\n",
        "print(binarize([['', 1],[0.3, '']]))\n",
        "\n",
        "print(binarize([[0],[0.3]]))\n",
        "\n",
        "print(binarize([[0, 1],[0.7]]))"
      ]
    },
    {
      "cell_type": "markdown",
      "metadata": {
        "id": "IY5L-h-7zWhN"
      },
      "source": [
        "<h1>Задача 3. Напишите функцию, которая возвращает уникальные элементы из каждой строки матрицы. Напишите такую же функцию, но для столбцов. Напишите тесты для кода"
      ]
    },
    {
      "cell_type": "code",
      "execution_count": 49,
      "metadata": {
        "id": "-8dEZhR0SBC-"
      },
      "outputs": [
        {
          "name": "stdout",
          "output_type": "stream",
          "text": [
            "Уникальные элементы 0 строки - [0 1]\n",
            "Уникальные элементы 1 строки - [0.3 0.7]\n",
            "None\n",
            "Уникальные элементы 0 столбца - [0.5 1. ]\n",
            "Уникальные элементы 1 столбца - [0.  0.1]\n",
            "None\n",
            "Ошибка значений в строке! Все элементы должны быть числами.\n",
            "Ошибка значений в столбце! Все элементы должны быть числами.\n",
            "Уникальные элементы 0 столбца - [0.  0.7]\n",
            "Уникальные элементы 1 столбца - [15. 45.]\n",
            "None\n"
          ]
        }
      ],
      "source": [
        "def is_numeric(value):\n",
        "    return isinstance(value, (int, float))\n",
        "\n",
        "def unique_rows(mat):\n",
        "    for i in range(len(mat)):\n",
        "        if not all(is_numeric(x) for x in mat[i]):\n",
        "            return \"Ошибка значений в строке! Все элементы должны быть числами.\"\n",
        "        else:\n",
        "            unique_elements = np.unique(mat[i])\n",
        "            print(f\"Уникальные элементы {i} строки - {unique_elements}\")\n",
        "        \n",
        "def unique_columns(mat):\n",
        "    mat = np.transpose(mat)\n",
        "    for i in range(len(mat)):\n",
        "        if not all(is_numeric(x) for x in mat[i]):\n",
        "            return \"Ошибка значений в столбце! Все элементы должны быть числами.\"\n",
        "        else:\n",
        "            unique_elements = np.unique(mat[i])\n",
        "            print(f\"Уникальные элементы {i} столбца - {unique_elements}\")\n",
        "    \n",
        "print(unique_rows([[0, 1],[0.3, 0.7]]))\n",
        "\n",
        "print(unique_columns([[1, 0],[0.500, 0.1]]))\n",
        "\n",
        "print(unique_rows([['', 1],[0.3, '']]))\n",
        "\n",
        "print(unique_columns([[0, ''],['', 0.3]]))\n",
        "\n",
        "print(unique_columns([[0, 45],[0.7, 15]]))"
      ]
    },
    {
      "cell_type": "markdown",
      "metadata": {
        "id": "roYAlo4Jz-lH"
      },
      "source": [
        "<h1>Задача 4. Напишите функцию, которая заполняет матрицу с размерами $(m, n)$ случайными числами, распределенными по нормальному закону. Затем считает мат. ожидание и дисперсию для каждого из столбцов и строк, а также строит для каждой строки и столбца гистограмму значений (использовать функцию hist из модуля matplotlib.plot)"
      ]
    },
    {
      "cell_type": "code",
      "execution_count": null,
      "metadata": {
        "id": "nZK_71hMSQzv"
      },
      "outputs": [],
      "source": [
        "def random_matrix(m, n):\n",
        "    matrix = np.random.rand(m,n)\n",
        "    print(matrix)\n",
        "    #Мат ожидание\n",
        "    row_means = np.mean(matrix, axis=1)\n",
        "    col_means = np.mean(matrix, axis=0)\n",
        "\n",
        "    #Дисперсия\n",
        "    row_variances = np.var(matrix, axis=1)\n",
        "    col_variances = np.var(matrix, axis=0)\n",
        "\n",
        "    print(f\"Мат ожидания:\\n рядов - {row_means}\\n колонок - {col_means}\\nДисперсия:\\nрядов - {row_variances}\\n колонок - {col_variances}\")\n",
        "\n",
        "    # Гистограммы для строк\n",
        "    for i in range(m):\n",
        "        plt.figure(figsize=(8, 4))\n",
        "        plt.hist(matrix[i], bins=20, color='blue', alpha=0.7)\n",
        "        plt.title(f'Гистограмма значений строки {i}')\n",
        "        plt.xlabel('Значение')\n",
        "        plt.ylabel('Частота')\n",
        "        plt.grid(True)\n",
        "        plt.show()\n",
        "\n",
        "    # Гистограммы для столбцов\n",
        "    for j in range(n):\n",
        "        plt.figure(figsize=(8, 4))\n",
        "        plt.hist(matrix[:, j], bins=20, color='green', alpha=0.7)\n",
        "        plt.title(f'Гистограмма значений столбца {j}')\n",
        "        plt.xlabel('Значение')\n",
        "        plt.ylabel('Частота')\n",
        "        plt.grid(True)\n",
        "        plt.show()\n",
        "\n",
        "print(random_matrix(2,4))"
      ]
    },
    {
      "cell_type": "markdown",
      "metadata": {
        "id": "BDyATNdM0dJ2"
      },
      "source": [
        "<h1>Задача 5. Напишите функцию, которая заполняет матрицу $(m, n)$ в шахматном порядке заданными числами $a$ и $b$. Напишите тесты для кода"
      ]
    },
    {
      "cell_type": "code",
      "execution_count": null,
      "metadata": {
        "id": "RWNJYWQGecS6"
      },
      "outputs": [],
      "source": [
        "def chess(m, n, a, b):\n",
        "    matrix = np.ones((m,n)) * b\n",
        "    matrix [::2,::2] = a\n",
        "    matrix [1::2,1::2] = a\n",
        "    print(matrix)\n",
        "    \n",
        "# Test\n",
        "chess (3, 4, 1, 2)\n",
        "chess(4, 4, 0, 1)\n",
        "chess(5, 5, 9, 8)   \n",
        "chess(7,4,15,4)"
      ]
    },
    {
      "cell_type": "markdown",
      "metadata": {
        "id": "-ymXLtTN0vB6"
      },
      "source": [
        "<h1>Задача 6. Напишите функцию, которая отрисовывает прямоугольник с заданными размерами (a, b) на изображении размера (m, n), цвет фона задайте в схеме RGB, как и цвет прямоугольника. Цвета также должны быть параметрами функции. Напишите аналогичную функцию но для овала с полуосями a и b. Напишите тесты для кода.\n",
        "Примечание: уравнение эллипса (границы овала) можно записать как:\n",
        "<h1>$\\frac{(x-x_0)^2}{a^2}+\\frac{(y-y_0)^2}{b^2}=1$"
      ]
    },
    {
      "cell_type": "code",
      "execution_count": 10,
      "metadata": {
        "id": "sNfl1t_kfOF4"
      },
      "outputs": [
        {
          "data": {
            "image/png": "[encoded data removed]",
            "text/plain": [
              "<Figure size 640x480 with 1 Axes>"
            ]
          },
          "metadata": {},
          "output_type": "display_data"
        },
        {
          "data": {
            "image/png": "[encoded data removed]",
            "text/plain": [
              "<Figure size 640x480 with 1 Axes>"
            ]
          },
          "metadata": {},
          "output_type": "display_data"
        }
      ],
      "source": [
        "import numpy as np\n",
        "import matplotlib.pyplot as plt\n",
        "\n",
        "def draw_rectangle(a, b, m, n, rectangle_color, background_color):\n",
        "    \n",
        "    #Прямоугольник на изображении заданного размера с заданными цветами.\n",
        "    image = np.full((m, n, 3), background_color, dtype=np.uint8)\n",
        "    \n",
        "    #Координаты углов прямоугольника\n",
        "    x1, y1 = int((n - a) / 2), int((m - b) / 2)\n",
        "    x2, y2 = x1 + a, y1 + b\n",
        "    \n",
        "    #Рисуем прямоугольник\n",
        "    image[y1:y2, x1:x2] = rectangle_color\n",
        "    \n",
        "    # Отображаем изображение\n",
        "    plt.imshow(image)\n",
        "    plt.axis('off')\n",
        "    plt.show()\n",
        "\n",
        "def draw_ellipse(a, b, m, n, ellipse_color, background_color):\n",
        "    \n",
        "    #Овал на изображении заданного размера с заданными цветами.\n",
        "    image = np.full((m, n, 3), background_color, dtype=np.uint8)\n",
        "    \n",
        "    #Центр овала\n",
        "    x0, y0 = int(n / 2), int(m / 2)\n",
        "    \n",
        "    #Координатную сетка\n",
        "    y, x = np.ogrid[0:m, 0:n]\n",
        "    # Уравнение овала\n",
        "    mask = ((x - x0) ** 2 / (a ** 2) + (y - y0) ** 2 / (b ** 2)) <= 1\n",
        "    \n",
        "    #Овал\n",
        "    image[mask] = ellipse_color\n",
        "    \n",
        "    # Отображаем изображение\n",
        "    plt.imshow(image)\n",
        "    plt.axis('off')\n",
        "    plt.show()\n",
        "\n",
        "# Тесты\n",
        "draw_rectangle(200, 100, 300, 400, (255, 20, 0), (255, 255, 255))\n",
        "draw_ellipse(150, 100, 300, 400, (0, 20, 255), (255, 255, 255))\n"
      ]
    },
    {
      "cell_type": "markdown",
      "metadata": {
        "id": "S82c38oz244H"
      },
      "source": [
        "<h1>Задача 7. Дан некий временной ряд. Для данного ряда нужно найти его: математическое ожидание, дисперсию, СКО, найти все локальные максимумы и минимумы (локальный максимум - это точка, которая больше своих соседних точек, а локальный минимум - это точка, которая меньше своих соседей), а также вычислить для данного ряда другой ряд, получаемый методом скользящего среднего с размером окна $p$.\n",
        "<h1>Примечание: метод скользящего среднего подразумевает нахождение среднего из подмножетсва ряда размером $p$"
      ]
    },
    {
      "cell_type": "code",
      "execution_count": 4,
      "metadata": {
        "id": "Zb9mIVge5MMt"
      },
      "outputs": [
        {
          "name": "stdout",
          "output_type": "stream",
          "text": [
            "Математическое ожидание: 4.7\n",
            "Дисперсия: 6.81\n",
            "Стандартное отклонение: 2.6095976701399777\n",
            "Локальные максимумы: [(2, 6), (4, 8), (7, 9)]\n",
            "Локальные минимумы: [(3, 3), (5, 5)]\n",
            "Ряд скользящего среднего (p=3):\n",
            " [4.         4.33333333 5.66666667 5.33333333 6.66666667 7.\n",
            " 6.         4.        ]\n"
          ]
        }
      ],
      "source": [
        "\n",
        "def calculate_statistics(time_series):\n",
        "    \n",
        "    #Математическое ожидание, дисперсия и стандартное отклонение временного ряда.\n",
        "    mean = np.mean(time_series)\n",
        "    variance = np.var(time_series)\n",
        "    std_deviation = np.std(time_series)\n",
        "    return mean, variance, std_deviation\n",
        "\n",
        "def find_local_extremes(time_series):\n",
        "    \n",
        "    #Локальные экстремумы временного ряда.\n",
        "    local_maxima = []\n",
        "    local_minima = []\n",
        "    n = len(time_series)\n",
        "    \n",
        "    for i in range(1, n - 1):\n",
        "        if time_series[i] > time_series[i - 1] and time_series[i] > time_series[i + 1]:\n",
        "            local_maxima.append((i, time_series[i]))\n",
        "        elif time_series[i] < time_series[i - 1] and time_series[i] < time_series[i + 1]:\n",
        "            local_minima.append((i, time_series[i]))\n",
        "    \n",
        "    return local_maxima, local_minima\n",
        "\n",
        "def moving_average(time_series, p):\n",
        "    #Ряд скользящего среднего с окном размера p.\n",
        "    moving_avg_series = np.convolve(time_series, np.ones(p)/p, mode='valid')\n",
        "    return moving_avg_series\n",
        "\n",
        "# Пример временного ряда\n",
        "time_series = np.array([2, 4, 6, 3, 8, 5, 7, 9, 2, 1])\n",
        "\n",
        "# Вычисляем статистику\n",
        "mean, variance, std_deviation = calculate_statistics(time_series)\n",
        "print(f\"Математическое ожидание: {mean}\")\n",
        "print(f\"Дисперсия: {variance}\")\n",
        "print(f\"Стандартное отклонение: {std_deviation}\")\n",
        "\n",
        "# Находим локальные максимумы и минимумы\n",
        "local_maxima, local_minima = find_local_extremes(time_series)\n",
        "print(f\"Локальные максимумы: {local_maxima}\")\n",
        "print(f\"Локальные минимумы: {local_minima}\")\n",
        "\n",
        "# Вычисляем ряд скользящего среднего с окном размера p\n",
        "p = 3\n",
        "moving_avg_series = moving_average(time_series, p)\n",
        "print(f\"Ряд скользящего среднего (p={p}):\\n {moving_avg_series}\")\n"
      ]
    },
    {
      "cell_type": "markdown",
      "metadata": {
        "id": "jPkylmOX5O9n"
      },
      "source": [
        "<h1> Задача 8. Дан некоторый вектор с целочисленными метками классов, напишите функцию, которая выполняет one-hot-encoding для данного вектора\n",
        "<h1> One-hot-encoding - представление, в котором на месте метки некоторого класса стоит 1, в остальных позициях стоит 0. Например для вектора [0, 2, 3, 0] one-hot-encoding выглядит как: [[1, 0, 0, 0], [0, 0, 1, 0], [0, 0, 0, 1], [1, 0, 0, 0]]"
      ]
    },
    {
      "cell_type": "code",
      "execution_count": 32,
      "metadata": {
        "id": "Y-jlnZvw56lD"
      },
      "outputs": [
        {
          "name": "stdout",
          "output_type": "stream",
          "text": [
            "[[0, 1, 0, 0, 0, 0, 0], [0, 0, 0, 0, 0, 0, 1], [0, 0, 0, 1, 0, 0, 0]]\n",
            "Неверный ввод!\n",
            "[[1], [1], [0]]\n",
            "Неверный ввод!\n",
            "[[0, 0, 0, 0, 0, 0, 0, 0, 0, 0, 0, 0, 0, 0, 0, 0, 0, 0, 0, 0, 0, 0, 0, 0, 0, 0, 0, 0, 0, 0, 0, 0, 0, 0, 0, 0, 0, 0, 0, 0, 0, 0, 0, 0, 0, 0, 0, 0, 0, 0, 0, 0, 0, 0, 0, 0, 0, 0, 0, 0, 0, 0, 0, 0, 0, 0, 0, 0, 0, 0, 0, 0, 0, 0, 0, 0, 0, 0, 0, 0, 0, 0, 0, 0, 0, 0, 0, 0, 0, 0, 0, 0, 0, 0, 0, 0, 0, 0, 0, 1], [0, 0, 0, 0, 0, 0, 0, 0, 0, 0, 0, 0, 0, 0, 0, 0, 0, 0, 0, 0, 0, 0, 0, 0, 0, 0, 0, 0, 0, 0, 0, 0, 0, 0, 0, 0, 0, 0, 0, 0, 0, 0, 0, 0, 0, 0, 0, 0, 0, 0, 0, 0, 0, 0, 0, 0, 0, 0, 0, 0, 0, 0, 0, 0, 0, 0, 0, 0, 0, 0, 0, 0, 0, 0, 0, 0, 0, 0, 0, 0, 0, 0, 0, 0, 0, 0, 0, 0, 0, 0, 0, 0, 0, 0, 0, 0, 0, 0, 0, 1], [0, 0, 0, 0, 0, 0, 0, 0, 0, 0, 0, 0, 0, 0, 0, 0, 0, 0, 0, 0, 0, 0, 0, 0, 0, 0, 0, 0, 0, 0, 0, 0, 0, 0, 0, 0, 0, 0, 0, 0, 0, 0, 0, 0, 0, 0, 0, 0, 0, 0, 0, 0, 0, 0, 0, 0, 0, 0, 0, 0, 0, 0, 0, 0, 0, 0, 0, 0, 0, 0, 0, 0, 0, 0, 0, 0, 0, 0, 0, 0, 0, 0, 0, 0, 0, 0, 0, 0, 0, 0, 0, 0, 0, 0, 0, 0, 0, 0, 1, 0]]\n"
          ]
        }
      ],
      "source": [
        "def one_hot_encoding(vector):\n",
        "    try:\n",
        "        arr = [[ 1 if vector[List] == i else 0 for i in range ( max(vector))] for List in range (len(vector))]\n",
        "        arr[vector.index(max(vector))][-1] = 1\n",
        "    except (IndexError, TypeError):\n",
        "        return \"Неверный ввод!\"\n",
        "    return arr\n",
        "\n",
        "# Test\n",
        "print(one_hot_encoding([1,7,3]))\n",
        "print(one_hot_encoding([0,0,0,0,0,0]))\n",
        "print(one_hot_encoding([1,0,1]))\n",
        "print(one_hot_encoding(['','','']))\n",
        "print(one_hot_encoding([100,99,98]))\n",
        "\n",
        "    "
      ]
    }
  ],
  "metadata": {
    "colab": {
      "provenance": []
    },
    "kernelspec": {
      "display_name": "Python 3",
      "name": "python3"
    },
    "language_info": {
      "codemirror_mode": {
        "name": "ipython",
        "version": 3
      },
      "file_extension": ".py",
      "mimetype": "text/x-python",
      "name": "python",
      "nbconvert_exporter": "python",
      "pygments_lexer": "ipython3",
      "version": "3.11.5"
    }
  },
  "nbformat": 4,
  "nbformat_minor": 0
}
