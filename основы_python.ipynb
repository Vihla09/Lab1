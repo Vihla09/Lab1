{
  "cells": [
    {
      "cell_type": "markdown",
      "metadata": {
        "id": "M-DGa20PaHnu"
      },
      "source": [
        "#Задача 1\n",
        "Написать функцию на вход которой подается строка, состоящая из латинских букв.\n",
        "Функция должна вернуть количество гласных букв (a, e, i, o, u) в этой строке. Написать тесты для кода"
      ]
    },
    {
      "cell_type": "code",
      "execution_count": null,
      "metadata": {
        "id": "XvX8X_JJ6PCb"
      },
      "outputs": [],
      "source": [
        "#На вход функции должна подаваться строка состоящая только из латинских букв(возможно разделенных пробелами)\n",
        "def counter (line):\n",
        "    if \"\".join(line.split()).isalpha() != True:\n",
        "        print(\"Не выполенены условия для входных данных. Строка принимает только латинские буквы(Регистр не имеет значения), символы могут быть разделены пробелом.\")\n",
        "        return \"Возможно вы написали числа/символы в строке или вообще ничего не ввели\"\n",
        "    else:\n",
        "        return f\"В веденной строке содержится:\\n A - {line.count('A')}\\n a - {line.count('a')}\\n E - {line.count('E')}\\n e - {line.count('e')}\\n I - {line.count('I')}\\n i - {line.count('i')}\\n O - {line.count('O')}\\n o - {line.count('o')}\\n U - {line.count('U')}\\n u - {line.count('u')}\"\n",
        "    \n",
        "\n",
        "\n",
        "# Test\n",
        "\n",
        "# (Empty line)\n",
        "print (counter(\"\"))\n",
        "\n",
        "# (Number in line)\n",
        "print (counter(\"jgdl111ladf\"))\n",
        "\n",
        "# (Different case)\n",
        "print (counter(\"FfKkTtYyEeRrMmLlIi\"))\n",
        "\n",
        "# (Space in line)\n",
        "print (counter(\"asd  fha dca sd\"))\n",
        "\n",
        "# (Special characters in a string)\n",
        "print (counter(\"F!!!Tt@yEe#MmL())I^i\"))\n"
      ]
    },
    {
      "cell_type": "markdown",
      "metadata": {
        "id": "t2ClV_Y0bbr6"
      },
      "source": [
        "# Задача 2\n",
        "Написать функцию на вход, которой подается строка. Функция должна вернуть true, если\n",
        "каждый символ в строке встречается только 1 раз, иначе должна вернуть false. Написать тесты для кода"
      ]
    },
    {
      "cell_type": "code",
      "execution_count": 22,
      "metadata": {
        "id": "FppbECao6VIz"
      },
      "outputs": [
        {
          "name": "stdout",
          "output_type": "stream",
          "text": [
            "False\n",
            "True\n",
            "False\n",
            "False\n"
          ]
        }
      ],
      "source": [
        "# Под символом понимаются и числа, и пробелы, и прочие знаки. Будет считать символы 'A' и 'a' за один символ(для изменения просто уберем .lower())\n",
        "def check (line):\n",
        "    line = line.lower()\n",
        "    if len(line) == len(set(line)) and len(line) != 0:\n",
        "        return True\n",
        "    else:\n",
        "        return False\n",
        "\n",
        "# Test\n",
        "\n",
        "# Empty line\n",
        "print (check(''))\n",
        "\n",
        "# True line\n",
        "print (check(\"qwerty\"))\n",
        "\n",
        "# Different case\n",
        "print (check(\"AaVvRr\"))\n",
        "\n",
        "# Special characters in a string\n",
        "print (check(\"F!!!Tt@yEe#MmL())I^i\"))\n"
      ]
    },
    {
      "cell_type": "markdown",
      "metadata": {
        "id": "udRiIK1cdt6E"
      },
      "source": [
        "# Задача 3\n",
        "Написать функцию, которая принимает положительное число и возвращает количество\n",
        "бит равных 1 в этом числе. Написать тесты для кода"
      ]
    },
    {
      "cell_type": "code",
      "execution_count": null,
      "metadata": {
        "id": "6tkfDJRz6dp_"
      },
      "outputs": [],
      "source": [
        "def BitCounter (number):\n",
        "    if type(number) == int:\n",
        "        if number > 0:\n",
        "            return f\"Количество бит равных <1> - {bin(number)[2::].count('1')}.\"\n",
        "        else:\n",
        "            return \"Число является отрицательным.\"\n",
        "    elif type(number) == str:\n",
        "        try:\n",
        "            number = int(number)\n",
        "            if number > 0:\n",
        "                return f\"Количество бит равных <1> - {bin(number)[2::].count('1')}.\"\n",
        "        except ValueError:\n",
        "            return\"Тип данных не является числовым или строковым (который можно преобразовать к числу).\"\n",
        "    else:\n",
        "        return \"Тип данных не является числовым или строковым (который можно преобразовать к числу).\"\n",
        "\n",
        "    \n",
        "\n",
        "# Test \n",
        "\n",
        "# True number\n",
        "print(BitCounter(12345))\n",
        "\n",
        "# Negative number\n",
        "print(BitCounter(-12345))\n",
        "\n",
        "# Empty line\n",
        "print(BitCounter(''))\n",
        "\n",
        "# Type - string\n",
        "print(BitCounter('adf'))\n",
        "\n",
        "# String & numbers\n",
        "print(BitCounter('12fd456'))\n",
        "\n",
        "# With spase\n",
        "print(BitCounter('1 2 3 4'))"
      ]
    },
    {
      "cell_type": "markdown",
      "metadata": {
        "id": "26dDUz-Ae17N"
      },
      "source": [
        "# Задача 4\n",
        "Написать функцию, которая принимает положительное число. Функция должна вернуть то,\n",
        "сколько раз необходимо перемножать цифры числа или результат перемножения, чтобы\n",
        "получилось число состоящее из одной цифры.\n",
        "Например, для входного числа:\n",
        "· 39 функция должна вернуть 3, так как 3*9=27 => 2*7=14 => 1*4=4\n",
        "· 4 функция должна вернуть 0, так как число уже состоит из одной цифры\n",
        "· 999 функция должна вернуть 4, так как 9*9*9=729 => 7*2*9=126 => 1*2*6=12 =>\n",
        "1*2=2. Написать тесты для кода"
      ]
    },
    {
      "cell_type": "code",
      "execution_count": 19,
      "metadata": {
        "id": "BH1A_Mgi6i4G"
      },
      "outputs": [
        {
          "name": "stdout",
          "output_type": "stream",
          "text": [
            "Количество требуемых итераций - 2.\n",
            "Число является отрицательным.\n",
            "Тип данных не является числовым или строковым (который можно преобразовать к числу).\n",
            "Количество требуемых итераций - 2.\n",
            "Тип данных не является числовым или строковым (который можно преобразовать к числу).\n",
            "Тип данных не является числовым или строковым (который можно преобразовать к числу).\n"
          ]
        }
      ],
      "source": [
        "import math\n",
        "\n",
        "def magic(n):\n",
        "    if type(n) == int:\n",
        "        if n > 0:\n",
        "            tmp = 0\n",
        "            while n >= 10:\n",
        "                n = math.prod([int(num) for num in str(n)])\n",
        "                tmp += 1\n",
        "            return f\"Количество требуемых итераций - {tmp}.\"\n",
        "        else:\n",
        "            return \"Число является отрицательным.\"\n",
        "    elif type(n) == str:\n",
        "        try:\n",
        "            n = int(n)\n",
        "            if n > 0:\n",
        "                tmp = 0\n",
        "                while n >= 10:\n",
        "                    n = math.prod([int(num) for num in str(n)])\n",
        "                    tmp += 1\n",
        "                return f\"Количество требуемых итераций - {tmp}.\"\n",
        "            else:\n",
        "                return \"Число является отрицательным.\"\n",
        "        except ValueError :\n",
        "            return\"Тип данных не является числовым или строковым (который можно преобразовать к числу).\"\n",
        "    else:\n",
        "        return \"Тип данных не является числовым или строковым (который можно преобразовать к числу).\"\n",
        "    \n",
        "# Test \n",
        "\n",
        "# True number\n",
        "print(magic(12345))\n",
        "\n",
        "# Negative number\n",
        "print(magic(-12345))\n",
        "\n",
        "# Empty line\n",
        "print(magic(''))\n",
        "\n",
        "# Type - string\n",
        "print(magic('365869'))\n",
        "\n",
        "# String & numbers\n",
        "print(magic('12fd456'))\n",
        "\n",
        "# With spase\n",
        "print(magic('1 2 3 4'))"
      ]
    },
    {
      "cell_type": "markdown",
      "metadata": {
        "id": "0nS-kIa8g8vd"
      },
      "source": [
        "# Задача 5\n",
        "Написать функцию, которая принимает два целочисленных вектора одинаковой длины и\n",
        "\n",
        "возвращает среднеквадратическое отклонение двух векторов. Написать тесты для кода"
      ]
    },
    {
      "cell_type": "code",
      "execution_count": 8,
      "metadata": {
        "id": "8iphx4LM6xbx"
      },
      "outputs": [
        {
          "name": "stdout",
          "output_type": "stream",
          "text": [
            "4.08248290463863\n",
            "2.23606797749979\n",
            "Векторы должны находится в пространстве одинаковой разменрности и быть одинаковой длины.\n",
            "Векторы должны находится в пространстве одинаковой разменрности и быть одинаковой длины.\n",
            "Координаты вектора должны иметь числовое значение!\n",
            "Координаты вектора должны иметь числовое значение!\n",
            "Координаты вектора должны иметь числовое значение!\n",
            "Координаты вектора должны иметь числовое значение!\n",
            "Координаты вектора должны иметь числовое значение!\n"
          ]
        }
      ],
      "source": [
        "# Пусть вектора могут находиться в любом пространстве.\n",
        "# Предположим что пользователь должет вводить координаты вектора через пробел без доп символов.\n",
        "def mse(vektor1, vektor2):\n",
        "\n",
        "    vektor1, vektor2 = vektor1.split(' '), vektor2.split(' ')\n",
        "    \n",
        "    try:\n",
        "        vektor1, vektor2 = list(map(int,vektor1)), list(map(int,vektor2))\n",
        "    except :\n",
        "        return \"Координаты вектора должны иметь целочисленное значение!\"\n",
        "\n",
        "    if len(vektor1) != len(vektor2) or (sum([coordinate ** 2 for coordinate in vektor1])) ** 0.5 != (sum([coordinate ** 2 for coordinate in vektor2])) ** 0.5:\n",
        "        return \"Векторы должны находится в пространстве одинаковой разменрности и быть одинаковой длины.\"\n",
        "    \n",
        "    return (sum([(vektor1[i] - vektor2[i]) ** 2 for i in range(len(vektor1))])/len(vektor1)) ** 0.5\n",
        "\n",
        "#Test\n",
        "\n",
        "# True vektors(3)\n",
        "print(mse(\"4 3 0\",\"0 0 5\")) \n",
        "\n",
        "# True vektors(2)\n",
        "print(mse(\"4 3\",\"5 0\")) \n",
        "\n",
        "# False vektors\n",
        "print(mse(\"2 6\",\"7 3\"))\n",
        "\n",
        "# Float input\n",
        "print(mse(\"2.7 9.0\",\"0.2 3.5\"))\n",
        "\n",
        "\n",
        "# False inputs\n",
        "print(mse('',''))\n",
        "print(mse('asdf','asf'))\n",
        "print(mse('d d f f ','a d s f'))\n",
        "print(mse('4-8a;ag',''))\n",
        "print(mse('','$&#hfs'))\n"
      ]
    },
    {
      "cell_type": "markdown",
      "metadata": {
        "id": "vpIPKL439zkw"
      },
      "source": [
        "# Задача 6\n",
        "Написать функцию, принимающая целое положительное число. Функция должна вернуть\n",
        "строку вида “(n1**p1)(n2**p2)…(nk**pk)” представляющая разложение числа на простые\n",
        "множители (если pi == 1, то выводить только ni).\n",
        "Например, для числа 86240 функция должна вернуть “(2**5)(5)(7**2)(11)”. Написать тесты для кода"
      ]
    },
    {
      "cell_type": "code",
      "execution_count": 40,
      "metadata": {
        "id": "pFebmcZk94Jw"
      },
      "outputs": [
        {
          "name": "stdout",
          "output_type": "stream",
          "text": [
            "(3)(5)(823)\n",
            "Это не целое положительно число, либо оно задано строкой\n",
            "Тип данных не является числовым или строковым (который можно преобразовать к числу).\n",
            "(7)(52267)\n",
            "Тип данных не является числовым или строковым (который можно преобразовать к числу).\n",
            "Тип данных не является числовым или строковым (который можно преобразовать к числу).\n"
          ]
        }
      ],
      "source": [
        "def isPrime (n):\n",
        "    for i in range(2,int(n**0.5)+1):\n",
        "        if n % i == 0:\n",
        "            return False\n",
        "    return True\n",
        "\n",
        "\n",
        "\n",
        "def PrimeFactorization (number):\n",
        "    if type(number) == str:\n",
        "        try:\n",
        "            number = int(number)\n",
        "        except (ValueError, TypeError) :\n",
        "            return\"Тип данных не является числовым или строковым (который можно преобразовать к числу).\"\n",
        "            \n",
        "    if type(number) != int or number <=0:\n",
        "        return \"Это не целое положительно число.\"\n",
        "    if isPrime(number) == True:\n",
        "        return f\"({number})\"\n",
        "    else:\n",
        "        ans_dict = {}\n",
        "        for n in range(2, number):\n",
        "            if isPrime(n) == True:\n",
        "                if number % n == 0:\n",
        "                    ans_dict[n] = 0\n",
        "                    while number % n == 0:\n",
        "                        ans_dict[n]+=1\n",
        "                        number = number // n\n",
        "                    if number == 1:\n",
        "                        ans =''\n",
        "                        for key, value in ans_dict.items():\n",
        "                            if value != 1:\n",
        "                                ans = ans + f\"({key}{value})\"\n",
        "                            else:\n",
        "                                ans = ans + f\"({key})\"\n",
        "\n",
        "\n",
        "                        return ans\n",
        "                else:\n",
        "                    continue\n",
        "            else:\n",
        "                continue\n",
        "\n",
        "\n",
        "# Test \n",
        "\n",
        "# True number\n",
        "print(PrimeFactorization(12345))\n",
        "\n",
        "# Negative number\n",
        "print(PrimeFactorization(-12345))\n",
        "\n",
        "# Empty line\n",
        "print(PrimeFactorization(''))\n",
        "\n",
        "# Type - string\n",
        "print(PrimeFactorization('365869'))\n",
        "\n",
        "# String & numbers\n",
        "print(PrimeFactorization('12fd456'))\n",
        "\n",
        "# With spase\n",
        "print(PrimeFactorization('1 2 3 4'))\n",
        "\n",
        "\n",
        "\n",
        "\n",
        "\n",
        "\n",
        "\n",
        "        \n",
        "\n",
        "\n"
      ]
    },
    {
      "cell_type": "markdown",
      "metadata": {
        "id": "ps2s0BudX7A2"
      },
      "source": [
        "# Задача 7\n",
        "Написать функцию, принимающая целое число n, задающее количество кубиков. Функция\n",
        "должна определить, можно ли из данного кол-ва кубиков построить пирамиду, то есть\n",
        "можно ли представить число n как 1^2+2^2+3^2+…+k^2. Если можно, то функция должна\n",
        "вернуть k, иначе строку “It is impossible”. Написать тесты для кода"
      ]
    },
    {
      "cell_type": "code",
      "execution_count": 45,
      "metadata": {
        "id": "3YPjEXxhX_YT"
      },
      "outputs": [
        {
          "name": "stdout",
          "output_type": "stream",
          "text": [
            "2\n",
            "3\n",
            "It is impossible.\n",
            "Это не целое положительно число.\n",
            "Количество кубиков должно быть целым ЧИСЛОМ.\n",
            "It is impossible.\n",
            "Количество кубиков должно быть целым ЧИСЛОМ.\n",
            "Количество кубиков должно быть целым ЧИСЛОМ.\n"
          ]
        }
      ],
      "source": [
        "def pyramid(number):\n",
        "    if type(number) == str:\n",
        "        try:\n",
        "            number = int(number)\n",
        "        except (ValueError, TypeError) :\n",
        "            return\"Количество кубиков должно быть целым ЧИСЛОМ.\"\n",
        "            \n",
        "    if type(number) != int or number <=0:\n",
        "        return \"Это не целое положительно число.\"\n",
        "    counter = 0\n",
        "    while number > 0:\n",
        "        counter += 1\n",
        "        number -= counter ** 2\n",
        "        if number == 0:\n",
        "            return counter\n",
        "    return \"It is impossible.\"\n",
        "\n",
        "\n",
        "# Test \n",
        "\n",
        "# True number\n",
        "print(pyramid(5))\n",
        "print(pyramid(14))\n",
        "\n",
        "# False number\n",
        "print(pyramid(6))\n",
        "\n",
        "# Negative number\n",
        "print(pyramid(-12345))\n",
        "\n",
        "# Empty line\n",
        "print(pyramid(''))\n",
        "\n",
        "# Type - string\n",
        "print(pyramid('365869'))\n",
        "\n",
        "# String & numbers\n",
        "print(pyramid('12fd456'))\n",
        "\n",
        "# With spase\n",
        "print(pyramid('1 2 3 4'))\n"
      ]
    },
    {
      "cell_type": "markdown",
      "metadata": {
        "id": "KeKgmIdAQMEJ"
      },
      "source": [
        "# Задача 8\n",
        "Функция принимает на вход положительное число и определяет является ли оно сбалансированным, т.е. сумма цифр до средних равна сумме цифр после. Средними в случае нечетного числа цифр считать одну цифру, в случае четного - две средних. Написать тесты для кода"
      ]
    },
    {
      "cell_type": "code",
      "execution_count": 88,
      "metadata": {
        "id": "gMAAqtqlQrZt"
      },
      "outputs": [
        {
          "name": "stdout",
          "output_type": "stream",
          "text": [
            "525 - это сбалансированное число.\n",
            "1451 - это сбалансированное число.\n",
            "1451 - это сбалансированное число.\n",
            "6321678 - это число не является сбалансированным.\n",
            "Это не целое положительно число.\n",
            "Число должно быть числом!.\n",
            "365869 - это число не является сбалансированным.\n",
            "Число должно быть числом!.\n",
            "Число должно быть числом!.\n"
          ]
        }
      ],
      "source": [
        "def isBalance (number):\n",
        "    if type(number) == str:\n",
        "        try:\n",
        "            number = int(number)\n",
        "        except (ValueError, TypeError) :\n",
        "            return\"Число должно быть числом!.\"\n",
        "            \n",
        "    if type(number) != int or number <=0:\n",
        "        return \"Это не целое положительно число.\"\n",
        "    \n",
        "    if len(str(number)) % 2 == 0 and sum(map(int,list(str(number)[0:int(len(str(number)) / 2 - 1):]))) == sum(map(int,list(str(number)[int(len(str(number)) / 2 + 1)::]))):\n",
        "        return f\"{number} - это сбалансированное число.\"\n",
        "    elif len(str(number)) % 2 != 0 and sum(map(int,list(str(number)[:int((len(str(number))-1)/2):]))) == sum(map(int,list(str(number)[int((len(str(number))+1)/2)::]))):\n",
        "        return f\"{number} - это сбалансированное число.\"\n",
        "    else:\n",
        "        return f\"{number} - это число не является сбалансированным.\"\n",
        "    \n",
        "\n",
        "\n",
        "\n",
        "# Test \n",
        "\n",
        "# True number\n",
        "print(isBalance(525))\n",
        "print(isBalance(1451))\n",
        "\n",
        "# True string number\n",
        "print(isBalance('1451'))\n",
        "\n",
        "# False number\n",
        "print(isBalance(6321678))\n",
        "\n",
        "# Negative number\n",
        "print(isBalance(-12345))\n",
        "\n",
        "# Empty line\n",
        "print(isBalance(''))\n",
        "\n",
        "# Type - string\n",
        "print(isBalance('365869'))\n",
        "\n",
        "# String & numbers\n",
        "print(isBalance('12fd456'))\n",
        "\n",
        "# With spase\n",
        "print(isBalance('1 2 3 4'))"
      ]
    }
  ],
  "metadata": {
    "colab": {
      "provenance": []
    },
    "kernelspec": {
      "display_name": "Python 3",
      "name": "python3"
    },
    "language_info": {
      "codemirror_mode": {
        "name": "ipython",
        "version": 3
      },
      "file_extension": ".py",
      "mimetype": "text/x-python",
      "name": "python",
      "nbconvert_exporter": "python",
      "pygments_lexer": "ipython3",
      "version": "3.11.1"
    }
  },
  "nbformat": 4,
  "nbformat_minor": 0
}
